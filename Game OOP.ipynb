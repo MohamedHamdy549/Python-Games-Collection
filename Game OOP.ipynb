{
 "cells": [
  {
   "cell_type": "markdown",
   "id": "d2458b9f-413b-498b-afea-b1502411acb1",
   "metadata": {},
   "source": [
    "# Games"
   ]
  },
  {
   "cell_type": "markdown",
   "id": "d389d107-31cc-4220-ae5d-1c6b75ccf74a",
   "metadata": {},
   "source": [
    "## Game 1 : Odd or Even?"
   ]
  },
  {
   "cell_type": "code",
   "execution_count": 1,
   "id": "6d716fc7-9979-4394-9ff2-3f7caf33f943",
   "metadata": {},
   "outputs": [],
   "source": [
    "def Odd_or_Even():\n",
    "    print('Welcome to Odd or Even game!\\nHow to play:\\n1- Enter number of your choice\\n2- You will Get if your number odd or even\\n3- if you want to exsit write \"000\"\\n')\n",
    "    while True:\n",
    "        try:\n",
    "            number1 = int(input('Enter the number : '))\n",
    "            if number1 == 000:\n",
    "                break\n",
    "            elif number1 % 2 == 0:\n",
    "                print('Even')\n",
    "            else:\n",
    "                print('odd')\n",
    "        except:\n",
    "            print('Error! wrong input type... try again!')\n",
    "    print('Bye!')"
   ]
  },
  {
   "cell_type": "markdown",
   "id": "8ab7cb19-efab-4917-b5e2-5504e46c60b3",
   "metadata": {},
   "source": [
    "## Game 2 : Sum Avg >>"
   ]
  },
  {
   "cell_type": "code",
   "execution_count": 4,
   "id": "497f69ce-413b-4db0-b003-883622bcd6ce",
   "metadata": {},
   "outputs": [],
   "source": [
    "def avg0(number2):\n",
    "    sum = 0\n",
    "    for i in number2:\n",
    "        sum = sum + i\n",
    "    return (sum / len(number2))"
   ]
  },
  {
   "cell_type": "code",
   "execution_count": 5,
   "id": "a672c291-ff8e-4e5a-8c91-1b85b2f66a72",
   "metadata": {},
   "outputs": [],
   "source": [
    "def Sum_Avg():\n",
    "    print('Welcome to Sum Avg game!\\nHow to play:\\n1- How many numbers will you Enter?\\n2- Enter the numbers\\n3- Have fun :)\\n')\n",
    "    \n",
    "    while True:\n",
    "        try:\n",
    "            length = int(input('How many numbers will you Enter ? '))\n",
    "            if length < 0 : raise Exception(print('-ve'))\n",
    "        except:\n",
    "            print('Error! wrong input type... try again!')\n",
    "            continue\n",
    "        ls = []\n",
    "        for i in range(length):\n",
    "            while True:\n",
    "                try:\n",
    "                    x = int(input(f'Enter the {i+1} number : '))\n",
    "                    if x < 0 : raise Exception(print('-ve'))\n",
    "                    ls.append(x)\n",
    "                    break\n",
    "                except:\n",
    "                    print('Error! wrong input type... try again!')\n",
    "        print(f'The avg is : {avg0(ls)}')\n",
    "        z = input('\\n**********Another one (y/n)**********')\n",
    "        if z == 'n':\n",
    "            print('Bye!')\n",
    "            break"
   ]
  },
  {
   "cell_type": "markdown",
   "id": "203025cf-c64d-4a34-9b2c-cdd1a3ba6f5c",
   "metadata": {},
   "source": [
    "## Game 3 : Multiplication tables .."
   ]
  },
  {
   "cell_type": "code",
   "execution_count": 9,
   "id": "ba7c1ed5-ee66-408b-a414-eaa41d781a6f",
   "metadata": {},
   "outputs": [],
   "source": [
    "def Multiplication():\n",
    "    print('Welcome to Multiplication tables game!\\nHow to play:\\n1- Enter two numbers\\n2- the two numbers will be the range of the Multiplication tables\\n3- Have fun :)\\n')\n",
    "    \n",
    "    while True:\n",
    "        try:\n",
    "            number3 = int(input('Enter the number 1: '))\n",
    "            number4 = int(input('Enter the number 2: '))\n",
    "            if number3 < 0 or number4 < 0:\n",
    "                print('Error! wrong input type... try again!')\n",
    "                continue\n",
    "            if number3 > number4:\n",
    "                number3, number4 = number4, number3\n",
    "            for x in range(number3, number4+1):\n",
    "                for i in range(13):\n",
    "                    print(f'{x} * {i} = {(x)*i}')\n",
    "                print('----------------')\n",
    "        except:\n",
    "            print('Error! wrong input type... try again!')\n",
    "            \n",
    "        z = input('**********Another one (y/n)**********')\n",
    "        if z == 'n':\n",
    "            print('Bye!')\n",
    "            break"
   ]
  },
  {
   "cell_type": "markdown",
   "id": "7b4c8b16-6ccf-4898-8613-7aa521a264c6",
   "metadata": {},
   "source": [
    "## Game 4 : Fibonacci Sequence Generator"
   ]
  },
  {
   "cell_type": "code",
   "execution_count": 12,
   "id": "1c303221-9ec5-41bd-827e-d817ab3bf073",
   "metadata": {},
   "outputs": [],
   "source": [
    "def Fibonacci():\n",
    "    print('Welcome to Fibonacci Sequence game!\\nHow to play:\\n1- Enter number\\n2- the number will be the range of the Fibonacci Sequence\\n3- Have fun :)\\n')\n",
    "    \n",
    "    while True:\n",
    "        try:\n",
    "            n = int(input('Enter the number to start Fibonacci Sequence : '))\n",
    "            if n < 0:\n",
    "                raise Exception('-ve')\n",
    "        except:\n",
    "            print('Error! invalid input type... try again!')\n",
    "            continue\n",
    "        ls = []\n",
    "        x = 0\n",
    "        for i in range(n+1):\n",
    "            if len(ls) == 0:\n",
    "                ls.append(0)\n",
    "            elif len(ls) == 1:\n",
    "                ls.append(1)\n",
    "            else:\n",
    "                x = ls[-1] + ls[-2]\n",
    "                ls.append(x)\n",
    "            print(f'Step {i} : {x}')\n",
    "        z = input('\\n**********Another one (y/n)**********')\n",
    "        if z == 'n':\n",
    "            print('Bye!')\n",
    "            break"
   ]
  },
  {
   "cell_type": "markdown",
   "id": "98a0869c-b37f-46fb-a49f-51cf138f3525",
   "metadata": {},
   "source": [
    "## Game 5 : Number Guessing"
   ]
  },
  {
   "cell_type": "code",
   "execution_count": 15,
   "id": "181ea298-88b6-4d59-baa3-307bd4c35ee6",
   "metadata": {},
   "outputs": [],
   "source": [
    "def Number_Guessing():\n",
    "    print('WelcomNumber Guessinge to Number Guessing game!\\nHow to play:\\n1- you will enter range of the numbers your number within\\n2- we will try to guess your number!\\n3- Have fun :)\\n')\n",
    "    \n",
    "    while True:\n",
    "        try:\n",
    "            num0 = int(input('The number is Grater than : '))\n",
    "            num1 = int(input('The number is Smaller than : '))\n",
    "            if num0 < 0 or num1 <0:\n",
    "                    raise Exception('-ve')\n",
    "        except:\n",
    "            print('Error! invalid input type... try again!')\n",
    "            continue\n",
    "            \n",
    "        r = num1\n",
    "        step = r / 2\n",
    "        # num0 <= n <= num1\n",
    "        while True:\n",
    "            if num0 <= r <= num1:\n",
    "                Conf = input(f'>>> {r} >>> is that your number? (y/n)')\n",
    "                if Conf == 'n':\n",
    "                    if step == int(step / 2):\n",
    "                        step +=1\n",
    "                    Conf = input('is your number Grater or Smaller? (g/s)')\n",
    "                    if Conf == 's':\n",
    "                        r = int(r - step)\n",
    "                    elif Conf == 'g':\n",
    "                        r = int(r + step)\n",
    "                    step = step - int(step / 2)\n",
    "                else:\n",
    "                    print('<<<<<<<< finally! >>>>>>>>\\n')\n",
    "                    break\n",
    "            else:\n",
    "                print('You Have reached the limit!\\n')\n",
    "                r = num0\n",
    "        z = input('Another one (y/n)')\n",
    "        if z == 'n':\n",
    "            print('Bye!')\n",
    "            break"
   ]
  },
  {
   "cell_type": "markdown",
   "id": "216bdee1-53da-4c11-ab3c-ce21d6542ab8",
   "metadata": {},
   "source": [
    "## Game 6 : String Case Converter"
   ]
  },
  {
   "cell_type": "code",
   "execution_count": 18,
   "id": "3f823202-6728-4c61-b28a-b8893c405f3e",
   "metadata": {},
   "outputs": [],
   "source": [
    "def upperCase(text1):\n",
    "    up = []\n",
    "    for i in text1:\n",
    "        if i == ' ':\n",
    "            up.append(' ')\n",
    "        elif 97 <= ord(i) <= 122:\n",
    "            up.append(chr(ord(i) - 32))\n",
    "        else:\n",
    "            up.append(i)\n",
    "    return ''.join(up)"
   ]
  },
  {
   "cell_type": "code",
   "execution_count": 20,
   "id": "15fe38f1-63d4-4e0b-a5f4-85cd65c76344",
   "metadata": {},
   "outputs": [],
   "source": [
    "def lowerCase(text1):\n",
    "    low = []\n",
    "    for i in text1:\n",
    "        if i == ' ':\n",
    "            low.append(' ')\n",
    "        elif 65 <= ord(i) <= 90:\n",
    "            low.append(chr(ord(i) + 32))\n",
    "        else:\n",
    "            low.append(i)\n",
    "    return ''.join(low)"
   ]
  },
  {
   "cell_type": "code",
   "execution_count": 22,
   "id": "4f8757f6-c4b5-49f1-9fb9-4d4af04a4a1c",
   "metadata": {},
   "outputs": [],
   "source": [
    "def TitleCase(text1):\n",
    "    t = []  \n",
    "    for i in range(len(text1)):\n",
    "        if i == 0 or text1[i - 1] == ' ':\n",
    "            if 'a' <= text1[i] <= 'z':\n",
    "                t.append(chr(ord(text1[i]) - 32))\n",
    "            else:\n",
    "                t.append(text1[i])\n",
    "        else:\n",
    "            t.append(text1[i])\n",
    "    return ''.join(t)"
   ]
  },
  {
   "cell_type": "code",
   "execution_count": 24,
   "id": "55be683a-c090-4dac-9062-c0b33933eb15",
   "metadata": {},
   "outputs": [],
   "source": [
    "def String_Case():\n",
    "    while True:\n",
    "        text1 = input('Enter your text : ')\n",
    "        while True:\n",
    "            Case = input('Choose Case:\\n1- Upper (u)\\n2- Lower (l)\\n3- Title (t)\\n>>> (u/l/t)?')\n",
    "            if Case == 'u':\n",
    "                print(upperCase(text1))\n",
    "                break\n",
    "            elif Case == 'l':\n",
    "                print(lowerCase(text1))\n",
    "                break\n",
    "            elif Case == 't':\n",
    "                print(TitleCase(text1))\n",
    "                break\n",
    "            else:\n",
    "                print('Error! invalid input type... try again!')\n",
    "    \n",
    "        z = input('\\nAnother one (y/n)')\n",
    "        if z == 'n':\n",
    "            print('Bye!')\n",
    "            break\n",
    "            \n"
   ]
  },
  {
   "cell_type": "markdown",
   "id": "53b66b8b-3445-4f36-9bd3-90c608453ff3",
   "metadata": {},
   "source": [
    "## Palindrome String Check:"
   ]
  },
  {
   "cell_type": "code",
   "execution_count": 27,
   "id": "7914e5ae-d7b9-4546-bb3d-330f00914f0f",
   "metadata": {},
   "outputs": [],
   "source": [
    "def Seventh_Game():\n",
    "    while True:\n",
    "        try:\n",
    "            user_input = input('Please enter your string: ').replace(\" \", \"\").lower()  \n",
    "            \n",
    "            \n",
    "            if not user_input or user_input.isdigit():\n",
    "                print('Invalid input. Please enter a valid string (letters only).')\n",
    "                continue  # Ask for input again\n",
    "\n",
    "            \n",
    "            if user_input == user_input[::-1]:\n",
    "                print('The string is a palindrome.')\n",
    "            else:\n",
    "                print('The string is not a palindrome.')\n",
    "            \n",
    "           \n",
    "            if input('Do you want to play again? (t/f): ').lower() != 't':\n",
    "                print('Thank you for playing :)')\n",
    "                break\n",
    "\n",
    "        except:\n",
    "            print('An error occurred. Please try again.')"
   ]
  },
  {
   "cell_type": "markdown",
   "id": "3dafae62-57d9-4a7a-a593-64bfdd6cb247",
   "metadata": {},
   "source": [
    "# Class"
   ]
  },
  {
   "cell_type": "code",
   "execution_count": 30,
   "id": "e4965a28-e77c-45ca-964a-dd66ad997170",
   "metadata": {},
   "outputs": [],
   "source": [
    "class Game:\n",
    "    def __init__(self):\n",
    "        print('Let the Hunger Games begin!')\n",
    "\n",
    "    def menu(self):\n",
    "        while True:\n",
    "            print('Game Menu')\n",
    "            print('*' * 50)\n",
    "            print(\"\"\"Choose Game from the Following by typing nymber (1 - 7):\n",
    "            1- Even and Odd Classification\n",
    "            2- Sum and Average Calculator\n",
    "            3- Multiplication Table Generator\n",
    "            4- Fibonacci Sequence Generator\n",
    "            5- Number Guessing\n",
    "            6- String Case Converter\n",
    "            7- Palindrome String Check\n",
    "            **************************\n",
    "            press 0 to End\n",
    "            **************************\"\"\")\n",
    "            try:\n",
    "                c = int(input())\n",
    "                if 0 > c or c > 7:\n",
    "                    raise Exception('Out of Range')\n",
    "            except:\n",
    "                print('Error! invalid input type... try again!')\n",
    "                continue\n",
    "    \n",
    "            if c == 1:\n",
    "                Game.Game1(self)\n",
    "            elif c == 2:\n",
    "                Game.Game2(self)\n",
    "            elif c == 3:\n",
    "                Game.Game3(self)\n",
    "            elif c == 4:\n",
    "                Game.Game4(self)\n",
    "            elif c == 5:\n",
    "                Game.Game5(self)\n",
    "            elif c == 6:\n",
    "                Game.Game6(self)\n",
    "            elif c == 7:\n",
    "                Game.Game7(self)\n",
    "            elif c == 0:\n",
    "                print('Bye!')\n",
    "                break\n",
    "            else:\n",
    "                print('Error! invalid input type... try again!')\n",
    "                continue\n",
    "\n",
    "\n",
    "    def Game1(self):\n",
    "        Odd_or_Even()\n",
    "\n",
    "    def Game2(self):\n",
    "        Sum_Avg()\n",
    "\n",
    "    def Game3(self):\n",
    "        Multiplication()\n",
    "\n",
    "    def Game4(self):\n",
    "        Fibonacci()\n",
    "\n",
    "    def Game5(self):\n",
    "        Number_Guessing()\n",
    "\n",
    "    def Game6(self):\n",
    "        String_Case()\n",
    "\n",
    "    def Game7(self):\n",
    "        Seventh_Game()\n",
    "        "
   ]
  },
  {
   "cell_type": "code",
   "execution_count": 32,
   "id": "225fdb39-8fd3-4054-822c-e127945bdbec",
   "metadata": {},
   "outputs": [
    {
     "name": "stdout",
     "output_type": "stream",
     "text": [
      "Let the Hunger Games begin!\n"
     ]
    }
   ],
   "source": [
    "m = Game()"
   ]
  },
  {
   "cell_type": "code",
   "execution_count": 38,
   "id": "8124a41b-3ea4-49de-8aec-96e9ad01b7e6",
   "metadata": {},
   "outputs": [
    {
     "name": "stdout",
     "output_type": "stream",
     "text": [
      "Game Menu\n",
      "**************************************************\n",
      "Choose Game from the Following by typing nymber (1 - 7):\n",
      "            1- Even and Odd Classification\n",
      "            2- Sum and Average Calculator\n",
      "            3- Multiplication Table Generator\n",
      "            4- Fibonacci Sequence Generator\n",
      "            5- Number Guessing\n",
      "            6- String Case Converter\n",
      "            7- Palindrome String Check\n",
      "            **************************\n",
      "            press 0 to End\n",
      "            **************************\n"
     ]
    },
    {
     "name": "stdin",
     "output_type": "stream",
     "text": [
      " 2\n"
     ]
    },
    {
     "name": "stdout",
     "output_type": "stream",
     "text": [
      "Welcome to Sum Avg game!\n",
      "How to play:\n",
      "1- How many numbers will you Enter?\n",
      "2- Enter the numbers\n",
      "3- Have fun :)\n",
      "\n"
     ]
    },
    {
     "name": "stdin",
     "output_type": "stream",
     "text": [
      "How many numbers will you Enter ?  5\n",
      "Enter the 1 number :  6\n",
      "Enter the 2 number :  4\n",
      "Enter the 3 number :  11\n",
      "Enter the 4 number :  0\n",
      "Enter the 5 number :  0\n"
     ]
    },
    {
     "name": "stdout",
     "output_type": "stream",
     "text": [
      "The avg is : 4.2\n"
     ]
    },
    {
     "name": "stdin",
     "output_type": "stream",
     "text": [
      "\n",
      "**********Another one (y/n)********** 2\n",
      "How many numbers will you Enter ?  1\n",
      "Enter the 1 number :  2\n"
     ]
    },
    {
     "name": "stdout",
     "output_type": "stream",
     "text": [
      "The avg is : 2.0\n"
     ]
    },
    {
     "name": "stdin",
     "output_type": "stream",
     "text": [
      "\n",
      "**********Another one (y/n)********** n\n"
     ]
    },
    {
     "name": "stdout",
     "output_type": "stream",
     "text": [
      "Bye!\n",
      "Game Menu\n",
      "**************************************************\n",
      "Choose Game from the Following by typing nymber (1 - 7):\n",
      "            1- Even and Odd Classification\n",
      "            2- Sum and Average Calculator\n",
      "            3- Multiplication Table Generator\n",
      "            4- Fibonacci Sequence Generator\n",
      "            5- Number Guessing\n",
      "            6- String Case Converter\n",
      "            7- Palindrome String Check\n",
      "            **************************\n",
      "            press 0 to End\n",
      "            **************************\n"
     ]
    },
    {
     "name": "stdin",
     "output_type": "stream",
     "text": [
      " 4\n"
     ]
    },
    {
     "name": "stdout",
     "output_type": "stream",
     "text": [
      "Welcome to Fibonacci Sequence game!\n",
      "How to play:\n",
      "1- Enter number\n",
      "2- the number will be the range of the Fibonacci Sequence\n",
      "3- Have fun :)\n",
      "\n"
     ]
    },
    {
     "name": "stdin",
     "output_type": "stream",
     "text": [
      "Enter the number to start Fibonacci Sequence :  5\n"
     ]
    },
    {
     "name": "stdout",
     "output_type": "stream",
     "text": [
      "Step 0 : 0\n",
      "Step 1 : 0\n",
      "Step 2 : 1\n",
      "Step 3 : 2\n",
      "Step 4 : 3\n",
      "Step 5 : 5\n"
     ]
    },
    {
     "name": "stdin",
     "output_type": "stream",
     "text": [
      "\n",
      "**********Another one (y/n)********** n\n"
     ]
    },
    {
     "name": "stdout",
     "output_type": "stream",
     "text": [
      "Bye!\n",
      "Game Menu\n",
      "**************************************************\n",
      "Choose Game from the Following by typing nymber (1 - 7):\n",
      "            1- Even and Odd Classification\n",
      "            2- Sum and Average Calculator\n",
      "            3- Multiplication Table Generator\n",
      "            4- Fibonacci Sequence Generator\n",
      "            5- Number Guessing\n",
      "            6- String Case Converter\n",
      "            7- Palindrome String Check\n",
      "            **************************\n",
      "            press 0 to End\n",
      "            **************************\n"
     ]
    },
    {
     "name": "stdin",
     "output_type": "stream",
     "text": [
      " 9\n"
     ]
    },
    {
     "name": "stdout",
     "output_type": "stream",
     "text": [
      "Error! invalid input type... try again!\n",
      "Game Menu\n",
      "**************************************************\n",
      "Choose Game from the Following by typing nymber (1 - 7):\n",
      "            1- Even and Odd Classification\n",
      "            2- Sum and Average Calculator\n",
      "            3- Multiplication Table Generator\n",
      "            4- Fibonacci Sequence Generator\n",
      "            5- Number Guessing\n",
      "            6- String Case Converter\n",
      "            7- Palindrome String Check\n",
      "            **************************\n",
      "            press 0 to End\n",
      "            **************************\n"
     ]
    },
    {
     "name": "stdin",
     "output_type": "stream",
     "text": [
      " 4\n"
     ]
    },
    {
     "name": "stdout",
     "output_type": "stream",
     "text": [
      "Welcome to Fibonacci Sequence game!\n",
      "How to play:\n",
      "1- Enter number\n",
      "2- the number will be the range of the Fibonacci Sequence\n",
      "3- Have fun :)\n",
      "\n"
     ]
    },
    {
     "name": "stdin",
     "output_type": "stream",
     "text": [
      "Enter the number to start Fibonacci Sequence :  9\n"
     ]
    },
    {
     "name": "stdout",
     "output_type": "stream",
     "text": [
      "Step 0 : 0\n",
      "Step 1 : 0\n",
      "Step 2 : 1\n",
      "Step 3 : 2\n",
      "Step 4 : 3\n",
      "Step 5 : 5\n",
      "Step 6 : 8\n",
      "Step 7 : 13\n",
      "Step 8 : 21\n",
      "Step 9 : 34\n"
     ]
    },
    {
     "name": "stdin",
     "output_type": "stream",
     "text": [
      "\n",
      "**********Another one (y/n)********** n\n"
     ]
    },
    {
     "name": "stdout",
     "output_type": "stream",
     "text": [
      "Bye!\n",
      "Game Menu\n",
      "**************************************************\n",
      "Choose Game from the Following by typing nymber (1 - 7):\n",
      "            1- Even and Odd Classification\n",
      "            2- Sum and Average Calculator\n",
      "            3- Multiplication Table Generator\n",
      "            4- Fibonacci Sequence Generator\n",
      "            5- Number Guessing\n",
      "            6- String Case Converter\n",
      "            7- Palindrome String Check\n",
      "            **************************\n",
      "            press 0 to End\n",
      "            **************************\n"
     ]
    },
    {
     "name": "stdin",
     "output_type": "stream",
     "text": [
      " 0\n"
     ]
    },
    {
     "name": "stdout",
     "output_type": "stream",
     "text": [
      "Bye!\n"
     ]
    }
   ],
   "source": [
    "m.menu()"
   ]
  },
  {
   "cell_type": "code",
   "execution_count": null,
   "id": "991eed9a-589e-4194-8ec3-37b7e72256f5",
   "metadata": {},
   "outputs": [],
   "source": []
  }
 ],
 "metadata": {
  "kernelspec": {
   "display_name": "Python 3 (ipykernel)",
   "language": "python",
   "name": "python3"
  },
  "language_info": {
   "codemirror_mode": {
    "name": "ipython",
    "version": 3
   },
   "file_extension": ".py",
   "mimetype": "text/x-python",
   "name": "python",
   "nbconvert_exporter": "python",
   "pygments_lexer": "ipython3",
   "version": "3.12.4"
  }
 },
 "nbformat": 4,
 "nbformat_minor": 5
}
